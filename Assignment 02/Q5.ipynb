{
 "cells": [
  {
   "cell_type": "markdown",
   "id": "841954a3-e12f-42d1-a7e4-7a55762f5338",
   "metadata": {},
   "source": [
    "#### (5) Use the iris dataset available in sklearn package. Drop the target variable and apply Kmeans clustering algorithm. Select appropriate value for K and provide relevant performance metrics."
   ]
  },
  {
   "cell_type": "code",
   "execution_count": 10,
   "id": "7d56b447-71c8-406f-a179-276d194fe1f1",
   "metadata": {},
   "outputs": [],
   "source": [
    "import pandas as pd\n",
    "import numpy as np\n",
    "import matplotlib.pyplot as plt\n",
    "import seaborn as sns\n",
    "from sklearn.cluster import KMeans\n",
    "from sklearn.datasets import load_iris\n",
    "from sklearn import metrics\n",
    "# from sklearn.preprocessing import MinMaxScaler"
   ]
  },
  {
   "cell_type": "code",
   "execution_count": 2,
   "id": "cb75de0b-a261-4fa1-a269-ce08ca2a338a",
   "metadata": {},
   "outputs": [
    {
     "data": {
      "text/html": [
       "<div>\n",
       "<style scoped>\n",
       "    .dataframe tbody tr th:only-of-type {\n",
       "        vertical-align: middle;\n",
       "    }\n",
       "\n",
       "    .dataframe tbody tr th {\n",
       "        vertical-align: top;\n",
       "    }\n",
       "\n",
       "    .dataframe thead th {\n",
       "        text-align: right;\n",
       "    }\n",
       "</style>\n",
       "<table border=\"1\" class=\"dataframe\">\n",
       "  <thead>\n",
       "    <tr style=\"text-align: right;\">\n",
       "      <th></th>\n",
       "      <th>sepal length (cm)</th>\n",
       "      <th>sepal width (cm)</th>\n",
       "      <th>petal length (cm)</th>\n",
       "      <th>petal width (cm)</th>\n",
       "    </tr>\n",
       "  </thead>\n",
       "  <tbody>\n",
       "    <tr>\n",
       "      <th>count</th>\n",
       "      <td>150.000000</td>\n",
       "      <td>150.000000</td>\n",
       "      <td>150.000000</td>\n",
       "      <td>150.000000</td>\n",
       "    </tr>\n",
       "    <tr>\n",
       "      <th>std</th>\n",
       "      <td>0.828066</td>\n",
       "      <td>0.435866</td>\n",
       "      <td>1.765298</td>\n",
       "      <td>0.762238</td>\n",
       "    </tr>\n",
       "    <tr>\n",
       "      <th>min</th>\n",
       "      <td>4.300000</td>\n",
       "      <td>2.000000</td>\n",
       "      <td>1.000000</td>\n",
       "      <td>0.100000</td>\n",
       "    </tr>\n",
       "    <tr>\n",
       "      <th>max</th>\n",
       "      <td>7.900000</td>\n",
       "      <td>4.400000</td>\n",
       "      <td>6.900000</td>\n",
       "      <td>2.500000</td>\n",
       "    </tr>\n",
       "    <tr>\n",
       "      <th>mean</th>\n",
       "      <td>5.843333</td>\n",
       "      <td>3.057333</td>\n",
       "      <td>3.758000</td>\n",
       "      <td>1.199333</td>\n",
       "    </tr>\n",
       "    <tr>\n",
       "      <th>median</th>\n",
       "      <td>5.800000</td>\n",
       "      <td>3.000000</td>\n",
       "      <td>4.350000</td>\n",
       "      <td>1.300000</td>\n",
       "    </tr>\n",
       "  </tbody>\n",
       "</table>\n",
       "</div>"
      ],
      "text/plain": [
       "        sepal length (cm)  sepal width (cm)  petal length (cm)  \\\n",
       "count          150.000000        150.000000         150.000000   \n",
       "std              0.828066          0.435866           1.765298   \n",
       "min              4.300000          2.000000           1.000000   \n",
       "max              7.900000          4.400000           6.900000   \n",
       "mean             5.843333          3.057333           3.758000   \n",
       "median           5.800000          3.000000           4.350000   \n",
       "\n",
       "        petal width (cm)  \n",
       "count         150.000000  \n",
       "std             0.762238  \n",
       "min             0.100000  \n",
       "max             2.500000  \n",
       "mean            1.199333  \n",
       "median          1.300000  "
      ]
     },
     "metadata": {},
     "output_type": "display_data"
    },
    {
     "name": "stdout",
     "output_type": "stream",
     "text": [
      "<class 'pandas.core.frame.DataFrame'>\n",
      "RangeIndex: 150 entries, 0 to 149\n",
      "Data columns (total 4 columns):\n",
      " #   Column             Non-Null Count  Dtype  \n",
      "---  ------             --------------  -----  \n",
      " 0   sepal length (cm)  150 non-null    float64\n",
      " 1   sepal width (cm)   150 non-null    float64\n",
      " 2   petal length (cm)  150 non-null    float64\n",
      " 3   petal width (cm)   150 non-null    float64\n",
      "dtypes: float64(4)\n",
      "memory usage: 4.8 KB\n"
     ]
    },
    {
     "data": {
      "text/plain": [
       "None"
      ]
     },
     "metadata": {},
     "output_type": "display_data"
    },
    {
     "name": "stdout",
     "output_type": "stream",
     "text": [
      "Shape: (150, 4)\n"
     ]
    },
    {
     "data": {
      "text/html": [
       "<div>\n",
       "<style scoped>\n",
       "    .dataframe tbody tr th:only-of-type {\n",
       "        vertical-align: middle;\n",
       "    }\n",
       "\n",
       "    .dataframe tbody tr th {\n",
       "        vertical-align: top;\n",
       "    }\n",
       "\n",
       "    .dataframe thead th {\n",
       "        text-align: right;\n",
       "    }\n",
       "</style>\n",
       "<table border=\"1\" class=\"dataframe\">\n",
       "  <thead>\n",
       "    <tr style=\"text-align: right;\">\n",
       "      <th></th>\n",
       "      <th>sepal length (cm)</th>\n",
       "      <th>sepal width (cm)</th>\n",
       "      <th>petal length (cm)</th>\n",
       "      <th>petal width (cm)</th>\n",
       "    </tr>\n",
       "  </thead>\n",
       "  <tbody>\n",
       "    <tr>\n",
       "      <th>0</th>\n",
       "      <td>5.1</td>\n",
       "      <td>3.5</td>\n",
       "      <td>1.4</td>\n",
       "      <td>0.2</td>\n",
       "    </tr>\n",
       "    <tr>\n",
       "      <th>1</th>\n",
       "      <td>4.9</td>\n",
       "      <td>3.0</td>\n",
       "      <td>1.4</td>\n",
       "      <td>0.2</td>\n",
       "    </tr>\n",
       "    <tr>\n",
       "      <th>2</th>\n",
       "      <td>4.7</td>\n",
       "      <td>3.2</td>\n",
       "      <td>1.3</td>\n",
       "      <td>0.2</td>\n",
       "    </tr>\n",
       "    <tr>\n",
       "      <th>3</th>\n",
       "      <td>4.6</td>\n",
       "      <td>3.1</td>\n",
       "      <td>1.5</td>\n",
       "      <td>0.2</td>\n",
       "    </tr>\n",
       "    <tr>\n",
       "      <th>4</th>\n",
       "      <td>5.0</td>\n",
       "      <td>3.6</td>\n",
       "      <td>1.4</td>\n",
       "      <td>0.2</td>\n",
       "    </tr>\n",
       "  </tbody>\n",
       "</table>\n",
       "</div>"
      ],
      "text/plain": [
       "   sepal length (cm)  sepal width (cm)  petal length (cm)  petal width (cm)\n",
       "0                5.1               3.5                1.4               0.2\n",
       "1                4.9               3.0                1.4               0.2\n",
       "2                4.7               3.2                1.3               0.2\n",
       "3                4.6               3.1                1.5               0.2\n",
       "4                5.0               3.6                1.4               0.2"
      ]
     },
     "metadata": {},
     "output_type": "display_data"
    }
   ],
   "source": [
    "# Load iris dataset\n",
    "iris = load_iris()\n",
    "\n",
    "# Create dataframe and display it\n",
    "iris_df = pd.DataFrame(iris.data)\n",
    "iris_df.columns = iris.feature_names\n",
    "\n",
    "# Display data description\n",
    "display(iris_df.agg(['count','std','min','max','mean','median']))\n",
    "display(iris_df.info())\n",
    "print(f'Shape: {iris_df.shape}')\n",
    "\n",
    "# First 5 rows\n",
    "display(iris_df.head(5))"
   ]
  },
  {
   "cell_type": "code",
   "execution_count": 3,
   "id": "d4e4247f-2bea-4e74-bee9-ae2f4e04019b",
   "metadata": {},
   "outputs": [
    {
     "name": "stdout",
     "output_type": "stream",
     "text": [
      "There are 3 labels: {0, 1, 2}\n",
      "There are 4 features\n",
      "There are 150 samples\n"
     ]
    }
   ],
   "source": [
    "X_train = iris_df.iloc[:, :].values\n",
    "\n",
    "#n_samples is the #rows, n_features is the #cols\n",
    "(n_samples , n_features) = X_train.shape\n",
    "\n",
    "#no. of labels for the target\n",
    "n_labels = len(iris.target_names)\n",
    "\n",
    "print(f\"There are {n_labels} labels: {set(iris.target)}\")\n",
    "print(f\"There are {n_features} features\")\n",
    "print(f\"There are {n_samples} samples\")"
   ]
  },
  {
   "cell_type": "markdown",
   "id": "72f49682-7494-4f94-b0db-e3fc027dd40e",
   "metadata": {},
   "source": [
    "Finding the optimum number of clusters for k-means classification using the elbow joint method.\n",
    "The elbow joint method is based on calculating the Within-Cluster-Sum of Squared Errors (WSS) for different number of clusters (k) and selecting the k for which change in WSS first starts to diminish."
   ]
  },
  {
   "cell_type": "code",
   "execution_count": 4,
   "id": "08ddb576-7a16-4b95-b1cd-fa5ebdfc3fdf",
   "metadata": {},
   "outputs": [
    {
     "data": {
      "image/png": "[encoded data removed]",
      "text/plain": [
       "<Figure size 576x396 with 2 Axes>"
      ]
     },
     "metadata": {},
     "output_type": "display_data"
    },
    {
     "data": {
      "text/plain": [
       "<AxesSubplot:title={'center':'Distortion Score Elbow for KMeans Clustering'}, xlabel='k', ylabel='distortion score'>"
      ]
     },
     "execution_count": 4,
     "metadata": {},
     "output_type": "execute_result"
    }
   ],
   "source": [
    "from yellowbrick.cluster import KElbowVisualizer\n",
    "\n",
    "random_state = 42\n",
    "# Instantiate the clustering model and visualizer\n",
    "visualizer = KElbowVisualizer(KMeans(random_state=random_state), k=(2,6))\n",
    "\n",
    "# Fit the data to the visualizer\n",
    "visualizer.fit(X_train)\n",
    "visualizer.show()"
   ]
  },
  {
   "cell_type": "markdown",
   "id": "735422f6-39df-43c0-bfad-b51a8a11ba4b",
   "metadata": {},
   "source": [
    "From the elbow joint method the optimal cluster that we can use is 3, which corresponds our number of labels."
   ]
  },
  {
   "cell_type": "code",
   "execution_count": 5,
   "id": "2a89e64f-c6af-4995-a085-2f7eae46139d",
   "metadata": {},
   "outputs": [],
   "source": [
    "model = KMeans(n_clusters = n_labels,\n",
    "                init = 'k-means++',\n",
    "                max_iter = 300,\n",
    "                n_init = 10,\n",
    "                random_state = random_state)\n",
    "\n",
    "y_pred = model.fit_predict(X_train)"
   ]
  },
  {
   "cell_type": "code",
   "execution_count": 6,
   "id": "71f20f2b-ec34-4749-99ec-24fefa3715d5",
   "metadata": {},
   "outputs": [
    {
     "name": "stdout",
     "output_type": "stream",
     "text": [
      "Total clusters:  3\n",
      "Init algorithm:  k-means++\n",
      "Sum of Squared Error (SSE):  78.851441426146\n",
      "No. of iterations:  3\n"
     ]
    },
    {
     "data": {
      "image/png": "[encoded data removed]",
      "text/plain": [
       "<Figure size 576x396 with 1 Axes>"
      ]
     },
     "metadata": {},
     "output_type": "display_data"
    }
   ],
   "source": [
    "print('Total clusters: ', model.get_params()[\"n_clusters\"])\n",
    "print('Init algorithm: ', model.get_params()[\"init\"])\n",
    "print('Sum of Squared Error (SSE): ', model.inertia_)\n",
    "print('No. of iterations: ', model.n_iter_)\n",
    "\n",
    "# Plotting the scatter plot for different species\n",
    "for i, color in enumerate([('pink'),('#BBB'),('#a3e6b5')]):\n",
    "    plt.scatter(X_train[y_pred == i, 0],\n",
    "                X_train[y_pred == i, 1],\n",
    "                s=100,\n",
    "                c=color,\n",
    "                label=iris.target_names[i])\n",
    "    \n",
    "# Plotting the centroids\n",
    "plt.scatter(model.cluster_centers_[:, 0],\n",
    "            model.cluster_centers_[:, 1],\n",
    "            s=100,\n",
    "            c='black',\n",
    "            edgecolors='black',\n",
    "            label='Centroids')\n",
    "\n",
    "plt.legend()\n",
    "plt.show()"
   ]
  },
  {
   "cell_type": "markdown",
   "id": "4d279d46-444d-4fab-814c-f8d5108023ab",
   "metadata": {},
   "source": [
    "## Performance Metrics"
   ]
  },
  {
   "cell_type": "markdown",
   "id": "e4ec338d-0768-4611-a2d8-3b699dae1541",
   "metadata": {},
   "source": [
    "#### Silhouette Coefficient\n",
    "The Silhouette Coefficient output values range between -1 and 1. A score close to 0.0 indicates random assignments, and a score close to 1 indicates perfectly labeled clusters."
   ]
  },
  {
   "cell_type": "code",
   "execution_count": 7,
   "id": "fec52a2a-c8a4-42e3-8bde-e8d1a3f8f724",
   "metadata": {},
   "outputs": [
    {
     "name": "stdout",
     "output_type": "stream",
     "text": [
      "Silhouette Coefficient:  0.66\n"
     ]
    }
   ],
   "source": [
    "from sklearn.metrics import silhouette_score\n",
    "\n",
    "silhouette_coef = silhouette_score(model.fit_transform(X_train), model.labels_).round(2)\n",
    "\n",
    "print('Silhouette Coefficient: ', silhouette_coef)"
   ]
  },
  {
   "cell_type": "markdown",
   "id": "44dfdf8e-6c91-4d74-a2b2-91f5d192a50a",
   "metadata": {},
   "source": [
    "#### Calinski-Harabasz Index\n",
    "Calinski-Harabasz Index is the ratio between within-cluster dispersion and between-cluster dispersion. Higher index relates to better clustering"
   ]
  },
  {
   "cell_type": "code",
   "execution_count": 8,
   "id": "156cbbfb-7172-437d-a4fc-73d5f5ef0335",
   "metadata": {},
   "outputs": [
    {
     "data": {
      "text/plain": [
       "561.62775662962"
      ]
     },
     "execution_count": 8,
     "metadata": {},
     "output_type": "execute_result"
    }
   ],
   "source": [
    "from sklearn.metrics import calinski_harabasz_score\n",
    "\n",
    "calinski_harabasz_score(X_train, model.labels_)"
   ]
  },
  {
   "cell_type": "markdown",
   "id": "cff40d0f-1abe-4010-9d07-9af8f8d0729c",
   "metadata": {},
   "source": [
    "#### Davies-Bouldin Index\n",
    "Measures how separated are the clusters. Zero is the lowest possible score. Values closer to zero indicate better partition.\n"
   ]
  },
  {
   "cell_type": "code",
   "execution_count": 9,
   "id": "004cadb0-8daf-45cc-8180-a182681467dd",
   "metadata": {},
   "outputs": [
    {
     "data": {
      "text/plain": [
       "0.6619715465007511"
      ]
     },
     "execution_count": 9,
     "metadata": {},
     "output_type": "execute_result"
    }
   ],
   "source": [
    "from sklearn.metrics import davies_bouldin_score\n",
    "\n",
    "davies_bouldin_score(X_train, model.labels_)"
   ]
  }
 ],
 "metadata": {
  "kernelspec": {
   "display_name": "Python 3 (ipykernel)",
   "language": "python",
   "name": "python3"
  },
  "language_info": {
   "codemirror_mode": {
    "name": "ipython",
    "version": 3
   },
   "file_extension": ".py",
   "mimetype": "text/x-python",
   "name": "python",
   "nbconvert_exporter": "python",
   "pygments_lexer": "ipython3",
   "version": "3.9.1"
  }
 },
 "nbformat": 4,
 "nbformat_minor": 5
}
